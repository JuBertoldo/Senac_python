{
  "nbformat": 4,
  "nbformat_minor": 0,
  "metadata": {
    "colab": {
      "provenance": [],
      "include_colab_link": true
    },
    "kernelspec": {
      "name": "python3",
      "display_name": "Python 3"
    },
    "language_info": {
      "name": "python"
    }
  },
  "cells": [
    {
      "cell_type": "markdown",
      "metadata": {
        "id": "view-in-github",
        "colab_type": "text"
      },
      "source": [
        "<a href=\"https://colab.research.google.com/github/JuBertoldo/Senac_python/blob/GitHub-Pages/C%C3%B3pia_de_Aula1_Introducao_ao_Python.ipynb\" target=\"_parent\"><img src=\"https://colab.research.google.com/assets/colab-badge.svg\" alt=\"Open In Colab\"/></a>"
      ]
    },
    {
      "cell_type": "markdown",
      "source": [
        "# Lógica de Programação usando Python"
      ],
      "metadata": {
        "id": "aiF1baSOl_g5"
      }
    },
    {
      "cell_type": "markdown",
      "source": [
        "##Variáveis e Tipos de Dados"
      ],
      "metadata": {
        "id": "Ci-xIqj4mC2b"
      }
    },
    {
      "cell_type": "markdown",
      "source": [
        "### Tipos de Dados Primitivos"
      ],
      "metadata": {
        "id": "Rs_pfpwinK9P"
      }
    },
    {
      "cell_type": "markdown",
      "source": [
        "#### **Inteiros (int)**: Representam números inteiros, positivos ou negativos, sem parte decimal. Exemplo: 10, -5, 0\n",
        "#### **Ponto flutuante (float)**: Representam números com parte decimal (números reais). Exemplo: 3.14, -0.001, 2.0\n",
        "#### **Strings (str)**: Representam sequências de caracteres (texto). As strings em Python são imutáveis e podem ser delimitadas por aspas simples ou duplas. Exemplo: \"Olá\", 'Python'\n",
        "#### **Booleanos (bool)**: Representam valores lógicos, podendo ser True (verdadeiro) ou False (falso). Exemplo: True, False\n",
        "#### **Nenhum valor (NoneType)**: Representa a ausência de valor ou o valor nulo. Usado com a palavra-chave None. Exemplo: None"
      ],
      "metadata": {
        "id": "ULvGu0uqmblO"
      }
    },
    {
      "cell_type": "markdown",
      "source": [
        "### Variáveis"
      ],
      "metadata": {
        "id": "WntYeBdvmH8c"
      }
    },
    {
      "cell_type": "markdown",
      "source": [
        "#### **O que são variáveis ?**"
      ],
      "metadata": {
        "id": "caOoKVphnT9i"
      }
    },
    {
      "cell_type": "markdown",
      "source": [
        "Variáveis são espaços na memória usados para armazenar valores que podem ser manipulados durante a execução de um programa. Elas associam um nome a um valor, permitindo o uso desse valor por meio de seu nome."
      ],
      "metadata": {
        "id": "lWY8lyh2n-dr"
      }
    },
    {
      "cell_type": "markdown",
      "source": [
        "#### **Nomeação de variáveis**"
      ],
      "metadata": {
        "id": "nVnWpaX-oDCF"
      }
    },
    {
      "cell_type": "markdown",
      "source": [
        "Existem algumas regras e boas práticas para nomear variáveis:\n",
        "\n",
        "Deve começar com uma letra ou um sublinhado (_), mas nunca com um número.\n",
        "Pode conter letras, números e sublinhados. Exemplo: minha_variavel, idade2.\n",
        "Sensible à diferença entre maiúsculas e minúsculas: Nome e nome são variáveis diferentes.\n",
        "Não pode ser uma palavra reservada da linguagem, como if, while, True, etc."
      ],
      "metadata": {
        "id": "Avo0OgujoLMz"
      }
    },
    {
      "cell_type": "markdown",
      "source": [
        "#### **Criação de Variáveis e atribuição de valores**"
      ],
      "metadata": {
        "id": "IJRDIQhloWvi"
      }
    },
    {
      "cell_type": "markdown",
      "source": [
        "Em Python, não é necessário declarar variáveis antes de usá-las, e você não precisa especificar seu tipo de dados. Para criar uma variável, basta atribuir um valor a um nome, isto é feito usando o operador de atribuição =. O valor à direita do operador é armazenado na variável à esquerda."
      ],
      "metadata": {
        "id": "mcSNOXrMohUE"
      }
    },
    {
      "cell_type": "code",
      "source": [
        "nome = \"João\"\n",
        "idade = 25\n",
        "altura = 1.75"
      ],
      "metadata": {
        "id": "pvpdhKgMon5Y"
      },
      "execution_count": null,
      "outputs": []
    },
    {
      "cell_type": "code",
      "source": [
        "print(f'Olá {nome}, sua idade é {idade} anos e a altura {altura}m')"
      ],
      "metadata": {
        "colab": {
          "base_uri": "https://localhost:8080/"
        },
        "id": "iUxmpk_RnYMu",
        "outputId": "0173a758-6353-415d-c222-275a9d78f7bc"
      },
      "execution_count": null,
      "outputs": [
        {
          "output_type": "stream",
          "name": "stdout",
          "text": [
            "Olá João, sua idade é 25 anos e a altura 1.75m\n"
          ]
        }
      ]
    },
    {
      "cell_type": "markdown",
      "source": [
        "#### **Atribuição múltipla**"
      ],
      "metadata": {
        "id": "y-FwwHOopgdN"
      }
    },
    {
      "cell_type": "markdown",
      "source": [
        "Python permite atribuir valores a várias variáveis de uma vez:"
      ],
      "metadata": {
        "id": "NxBCIlvLpw3j"
      }
    },
    {
      "cell_type": "code",
      "source": [
        "a, b ,c = 10, 20, 30\n",
        "nome, idade, altura = \"João\", 25, 1.75\n",
        "print(nome, idade, altura)"
      ],
      "metadata": {
        "id": "n97jdMVYpoyG",
        "colab": {
          "base_uri": "https://localhost:8080/"
        },
        "outputId": "3ac41a17-9b97-4f16-fe1b-adb3a24a97df"
      },
      "execution_count": null,
      "outputs": [
        {
          "output_type": "stream",
          "name": "stdout",
          "text": [
            "João 25 1.75\n"
          ]
        }
      ]
    },
    {
      "cell_type": "markdown",
      "source": [
        "#### **Tipagem Dinâmica**"
      ],
      "metadata": {
        "id": "ucHKF35RqKTV"
      }
    },
    {
      "cell_type": "markdown",
      "source": [
        "Python é uma linguagem de tipagem dinâmica, ou seja, o tipo de uma variável é determinado automaticamente com base no valor atribuído a ela. Isso significa que você pode mudar o tipo de uma variável simplesmente atribuindo um novo valor:"
      ],
      "metadata": {
        "id": "lvU3m4lCqRBA"
      }
    },
    {
      "cell_type": "markdown",
      "source": [
        "#### **Verificação de Tipo**"
      ],
      "metadata": {
        "id": "aYwRaETMqkXh"
      }
    },
    {
      "cell_type": "markdown",
      "source": [
        "Para verificar o tipo de dado armazenado em uma variável, usa-se a função type():"
      ],
      "metadata": {
        "id": "w4FthdRFqpG3"
      }
    },
    {
      "cell_type": "code",
      "source": [
        "idade = 25\n",
        "print(type(idade))  # Exibe <class 'int'>\n",
        "print(type(nome))  # Exibe <class 'str'>\n",
        "print(  type(altura))  # Exibe <class 'float'>"
      ],
      "metadata": {
        "id": "kHwljF58qrfw",
        "colab": {
          "base_uri": "https://localhost:8080/"
        },
        "outputId": "09fa0fab-08f2-4a94-d50a-e54237e9e999"
      },
      "execution_count": null,
      "outputs": [
        {
          "output_type": "stream",
          "name": "stdout",
          "text": [
            "<class 'int'>\n",
            "<class 'str'>\n",
            "<class 'float'>\n"
          ]
        }
      ]
    },
    {
      "cell_type": "markdown",
      "source": [
        "#### **Conversão de tipos**"
      ],
      "metadata": {
        "id": "wF0Psv3F2rVG"
      }
    },
    {
      "cell_type": "markdown",
      "source": [
        "O python permite que valores de um tipo sejam convertidos para outro. As função de conversão são:\n",
        "- int(): Converte um valor para um número inteiro.\n",
        "- float(): Converte um valor para um número de ponto flutuante.\n",
        "- str(): Converte um valor para uma string."
      ],
      "metadata": {
        "id": "YdM70R3G3NWG"
      }
    },
    {
      "cell_type": "code",
      "source": [
        "x = int(\"42\")\n",
        "y = float(\"3.14\")\n",
        "z = str(42)\n",
        "print(x, y, z)"
      ],
      "metadata": {
        "colab": {
          "base_uri": "https://localhost:8080/"
        },
        "id": "ciyWzwqa2vQ4",
        "outputId": "d27835a3-7f55-4e94-a9f6-32e320b2102c"
      },
      "execution_count": null,
      "outputs": [
        {
          "output_type": "stream",
          "name": "stdout",
          "text": [
            "42 3.14 42\n"
          ]
        }
      ]
    },
    {
      "cell_type": "markdown",
      "source": [
        "#### **Boas Práticas**"
      ],
      "metadata": {
        "id": "cbPh22GzvCqX"
      }
    },
    {
      "cell_type": "markdown",
      "source": [
        "1.   Use nomes de variáveis descritivos, que indiquem claramente o que a variável armazena. Isso facilita a leitura e manutenção do código.\n",
        "2.   Seguir a convenção **snake_case** para nomear variáveis, ou seja, **palavras minúsculas separadas por sublinhados**."
      ],
      "metadata": {
        "id": "DYHSwpoevIua"
      }
    },
    {
      "cell_type": "code",
      "source": [
        "nome_produto = \"feijao\"\n",
        "idade_aluno = 14\n",
        "preco_unitario = 19.99"
      ],
      "metadata": {
        "id": "LsT3WbmRv3DR"
      },
      "execution_count": null,
      "outputs": []
    },
    {
      "cell_type": "markdown",
      "source": [],
      "metadata": {
        "id": "gEb-6BInq5_1"
      }
    },
    {
      "cell_type": "markdown",
      "source": [
        "#### **Entrada de Dados pelo Teclado**"
      ],
      "metadata": {
        "id": "daZ1zER26naG"
      }
    },
    {
      "cell_type": "markdown",
      "source": [
        "Para atribuirmos valores às variáveis lendo a partir do teclado utilizamos a função: **input()**"
      ],
      "metadata": {
        "id": "2_IFXFxS6riG"
      }
    },
    {
      "cell_type": "code",
      "source": [
        "# Exemplo de input\n",
        "nome = input(\"Digite seu nome: \")\n",
        "idade = int(input(\"Digite sua idade: \"))\n",
        "print(f\"Olá, {nome}! Você tem {idade} anos.\")"
      ],
      "metadata": {
        "id": "L98bENEM7BWw",
        "colab": {
          "base_uri": "https://localhost:8080/"
        },
        "outputId": "6c95ea32-0209-49ef-fa0a-543ca7bdf6ed"
      },
      "execution_count": null,
      "outputs": [
        {
          "output_type": "stream",
          "name": "stdout",
          "text": [
            "Digite seu nome: Fulano\n",
            "Digite sua idade: 25\n",
            "Olá, Fulano! Você tem 25 anos.\n"
          ]
        }
      ]
    },
    {
      "cell_type": "markdown",
      "source": [
        "## Operadores Ariméticos"
      ],
      "metadata": {
        "id": "qrTDCHeezJiH"
      }
    },
    {
      "cell_type": "markdown",
      "source": [
        "![Captura de Tela 2024-10-01 às 11.59.13.png](data:image/png;base64,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)"
      ],
      "metadata": {
        "id": "ee7zmZZ4zVyY"
      }
    },
    {
      "cell_type": "code",
      "source": [
        "# soma\n",
        "x = 5\n",
        "y = 3\n",
        "soma = x + y\n",
        "print(soma)"
      ],
      "metadata": {
        "id": "fgZMVIuQz9kI"
      },
      "execution_count": null,
      "outputs": []
    },
    {
      "cell_type": "code",
      "source": [
        "# subtração\n",
        "x = 5\n",
        "y = 3\n",
        "subtracao = x - y\n",
        "print(subtracao)"
      ],
      "metadata": {
        "id": "_ME6cDS40F1h"
      },
      "execution_count": null,
      "outputs": []
    },
    {
      "cell_type": "code",
      "source": [
        "# multiplicação\n",
        "x = 5\n",
        "y = 3\n",
        "multiplicacao = x * y\n",
        "print(multiplicacao)"
      ],
      "metadata": {
        "id": "5wjXhTv_0MvP"
      },
      "execution_count": null,
      "outputs": []
    },
    {
      "cell_type": "code",
      "source": [
        "# divisão\n",
        "x = 5\n",
        "y = 3\n",
        "divisao = x / y\n",
        "print(divisao)"
      ],
      "metadata": {
        "id": "aZn8q8Ei0TzC"
      },
      "execution_count": null,
      "outputs": []
    },
    {
      "cell_type": "code",
      "source": [
        "# divisão inteira (quociente)\n",
        "x = 5\n",
        "y = 3\n",
        "divisao_inteira = x // y\n",
        "print(divisao_inteira)"
      ],
      "metadata": {
        "id": "tEv9R4pc0XlL"
      },
      "execution_count": null,
      "outputs": []
    },
    {
      "cell_type": "code",
      "source": [
        "# módulo (resto da divisão)\n",
        "x = 11\n",
        "y = 3\n",
        "modulo = x % y\n",
        "print(modulo)"
      ],
      "metadata": {
        "id": "NRxB7hTE0hbK"
      },
      "execution_count": null,
      "outputs": []
    },
    {
      "cell_type": "code",
      "source": [
        "# exponenciação\n",
        "x = 2\n",
        "y = 3\n",
        "exponenciacao = x ** y\n",
        "print(exponenciacao)"
      ],
      "metadata": {
        "id": "GnHa8kYm0uhB"
      },
      "execution_count": null,
      "outputs": []
    },
    {
      "cell_type": "markdown",
      "source": [
        "### Precedencia dos operadores"
      ],
      "metadata": {
        "id": "DoFYMks71Ct8"
      }
    },
    {
      "cell_type": "markdown",
      "source": [
        "Assim como na matemática, em Python a precedência dos operadores define a ordem em que as operações são realizadas. A ordem é a seguinte (do mais alto ao mais baixo):\n",
        "\n",
        "1. ** (Exponenciação)\n",
        "2. *, /, //, % (Multiplicação, Divisão, Divisão inteira, Módulo)\n",
        "3. +, - (Adição e Subtração)\n",
        "\n",
        "Se houver operadores com a mesma precedência, a avaliação é feita da esquerda para a direita. **Você pode usar parênteses () para alterar a ordem de execução.**"
      ],
      "metadata": {
        "id": "91SN_S2Z1Zfq"
      }
    },
    {
      "cell_type": "code",
      "source": [
        "resultado1 = 10 + 2 * 3  # Saída: 16 (multiplicação primeiro)\n",
        "resultado2 = (10 + 2) * 3  # Saída: 36 (parênteses alteram a ordem)\n",
        "print(resultado1)\n",
        "print(resultado2)"
      ],
      "metadata": {
        "id": "gN6UZCxE1pln"
      },
      "execution_count": null,
      "outputs": []
    },
    {
      "cell_type": "markdown",
      "source": [
        "### Divisão por Zero"
      ],
      "metadata": {
        "id": "Scy1dQam46gW"
      }
    },
    {
      "cell_type": "markdown",
      "source": [
        "Erro: Em Python, tentar dividir por zero (/, // ou %) resulta em um erro do tipo **ZeroDivisionError**."
      ],
      "metadata": {
        "id": "phb_FF0x5HDN"
      }
    },
    {
      "cell_type": "code",
      "source": [
        "a = 10\n",
        "b = 0\n",
        "resultado = a / b  # Gera um erro ZeroDivisionError"
      ],
      "metadata": {
        "id": "lCyLqqpo5OW2"
      },
      "execution_count": null,
      "outputs": []
    },
    {
      "cell_type": "markdown",
      "source": [],
      "metadata": {
        "id": "tcPhibTKzQUI"
      }
    },
    {
      "cell_type": "markdown",
      "source": [
        "## Exercícios"
      ],
      "metadata": {
        "id": "RmnQvoRk5pkS"
      }
    },
    {
      "cell_type": "markdown",
      "source": [
        "**Exercício 1**: Crie um programa que peça ao usuário seu nome e sua idade. Em seguida, exiba uma mensagem dizendo \"Seu nome é [nome] e você tem [idade] anos.\""
      ],
      "metadata": {
        "id": "-4biFUsT7j3l"
      }
    },
    {
      "cell_type": "code",
      "source": [
        "nome = (input(\"Digite seu nome: \"))\n",
        "idade = int(input(\"Informe sua idade: \"))\n",
        "print(f\"Seu nome é {nome} e você tem {idade} anos.\")"
      ],
      "metadata": {
        "id": "gNJo_7tlddmn"
      },
      "execution_count": null,
      "outputs": []
    },
    {
      "cell_type": "markdown",
      "source": [
        "**Exercício 2**: Crie um programa que converta a idade do usuário de anos para meses. Suponha que 1 ano tenha 12 meses. A idade deve ser informada através do teclado."
      ],
      "metadata": {
        "id": "4iUb-XUM7uFZ"
      }
    },
    {
      "cell_type": "code",
      "source": [
        "idade = int(input(\"Informe sua idade:\"))\n",
        "meses = idade * 12\n",
        "print(f\"Você tem {meses} meses de vida.\")"
      ],
      "metadata": {
        "id": "Hhh7Ya3meG3i"
      },
      "execution_count": null,
      "outputs": []
    },
    {
      "cell_type": "markdown",
      "source": [
        "**Exercício 3**: Escreva um programa que peça ao usuário dois números inteiros e exiba a soma, subtração, multiplicação e divisão desses números."
      ],
      "metadata": {
        "id": "_FW0qbJg7zRY"
      }
    },
    {
      "cell_type": "code",
      "source": [
        "num1 = int(input(\"Informe um número: \"))\n",
        "num2 = int(input(\"Informe outro número: \"))\n",
        "\n",
        "soma = num1 + num2\n",
        "subt = num1 - num2\n",
        "mult = num1 * num2\n",
        "div = num1 / num2\n",
        "\n",
        "print(f\"A soma dos números é: {soma}\")\n",
        "print(f\"A subtração dos números é: {subt}\")\n",
        "print(f\"A multiplicação dos números é: {mult}\")\n",
        "print(f\"A divisão dos números é: {div}\")"
      ],
      "metadata": {
        "id": "H86p3LPjes95"
      },
      "execution_count": null,
      "outputs": []
    },
    {
      "cell_type": "markdown",
      "source": [
        "**Exercício 4**:\n",
        "Armazene o preço de um produto e o percentual de desconto em duas variáveis. Calcule e exiba o valor final do produto após o desconto sabendo que a fórmula para obter este valor é: Valor do Protudo x (1 - (Desconto / 100))."
      ],
      "metadata": {
        "id": "2DkEAg4s-bU6"
      }
    },
    {
      "cell_type": "code",
      "source": [
        "produto = float(input(\"Informe o valor do produto: \"))\n",
        "desconto = float(input(\"Informe o valor do desconto: \"))\n",
        "valor_final = produto * (1 - (desconto /100))\n",
        "valor = produto - valor_final\n",
        "print(f\"O valor do produto custa R${produto} é o desconto oferecido foi de {desconto}%, e seu valor final da sua compra com desconto é R${valor_final}.\")\n",
        "print(f\"O valor do desconto é R${valor}\")"
      ],
      "metadata": {
        "id": "Yd21vm428P8B"
      },
      "execution_count": null,
      "outputs": []
    },
    {
      "cell_type": "markdown",
      "source": [
        "**Exercício 5**:\n",
        "Escreva um programa que armazene a base e a altura de um triângulo e calcule sua área. A fórmula da área de um triângulo é A = (base * altura) / 2."
      ],
      "metadata": {
        "id": "3gWSPt6c-L0M"
      }
    },
    {
      "cell_type": "code",
      "source": [
        "base = int(input(\"Digite o valor da base do triângulo: \"))\n",
        "altura = int(input(\"Digite o valor da altura do triângulo: \"))\n",
        "area = ((base * altura ) /2)\n",
        "print(f\"O valor da área é {area}\")"
      ],
      "metadata": {
        "id": "VSrpT_tM8W0g"
      },
      "execution_count": null,
      "outputs": []
    },
    {
      "cell_type": "markdown",
      "source": [
        "**Exercício 6**:\n",
        "Crie um programa que solicite ao usuário seu nome e idade e armazene esses valores. Exiba uma mensagem informando se o usuário é maior ou menor de idade."
      ],
      "metadata": {
        "id": "IzYt7i1T-OZP"
      }
    },
    {
      "cell_type": "code",
      "source": [
        "nome = input(\"Digite seu nome: \")\n",
        "idade = int(input(\"Informe sua idade: \"))\n",
        "if idade >= 18:\n",
        "    print(f\"{nome} é maior de idade\")\n",
        "    print(f\"{nome} tem {idade} anos\")\n",
        "else:\n",
        "    print(f\"{nome} é menor de idade\")\n",
        "    print(f\"{nome} tem {idade} anos\")\n"
      ],
      "metadata": {
        "id": "O96Uc4Ev9JJC"
      },
      "execution_count": null,
      "outputs": []
    },
    {
      "cell_type": "markdown",
      "source": [
        "**Exercício 7**:\n",
        "Armazene o valor de uma temperatura em graus Celsius e converta para Fahrenheit usando a fórmula: F = (C * 9/5) + 32. Exiba o resultado."
      ],
      "metadata": {
        "id": "hCEoA4w0-Rw7"
      }
    },
    {
      "cell_type": "code",
      "source": [
        "tempC = input(\"Digite o valor da temperatura em graus Celsius: \")\n",
        "tempF = (int(tempC) *9/5)+32\n",
        "print(f\"O valor da temperatura convertida em Fahrenheit é: {tempF}ºF\")"
      ],
      "metadata": {
        "id": "kg5XqDLp-liq"
      },
      "execution_count": null,
      "outputs": []
    },
    {
      "cell_type": "markdown",
      "source": [
        "**Exercício 8**:\n",
        "Escreva um programa que leia um número inteiro e exiba o seu antecessor e sucessor."
      ],
      "metadata": {
        "id": "9g57joOz-Tjw"
      }
    },
    {
      "cell_type": "code",
      "source": [
        "num = int(input(\"Digite um núemro inteiro: \"))\n",
        "antecessor = num - 1\n",
        "sucessor = num + 1\n",
        "print(f\"O número digitado foi: {num} é seu número antecessor é o número {antecessor} é o sucessor {sucessor}\")"
      ],
      "metadata": {
        "id": "u_he1sPXvkof"
      },
      "execution_count": null,
      "outputs": []
    },
    {
      "cell_type": "markdown",
      "source": [
        "**Exercício 9**:\n",
        "Declare uma variável que armazene uma frase de sua escolha. Use o método len() para exibir o número de caracteres da frase."
      ],
      "metadata": {
        "id": "l7iryg8d-Vp2"
      }
    },
    {
      "cell_type": "code",
      "source": [
        "frase = input(\"Digite uma frase: \")\n",
        "print(f\"O número de caracteres da frase é: {len(frase)}\")"
      ],
      "metadata": {
        "id": "AnOCPPOjjSkn",
        "collapsed": true
      },
      "execution_count": null,
      "outputs": []
    },
    {
      "cell_type": "markdown",
      "source": [
        "**Exercício 10**:\n",
        "Crie um programa que leia o nome, a idade e o salário de uma pessoa. Exiba essas informações formatadas como uma ficha pessoal."
      ],
      "metadata": {
        "id": "rdKf7PXt-XyC"
      }
    },
    {
      "cell_type": "code",
      "source": [
        "nome = input(\"Digite seu nome: \")\n",
        "idade = int(input(\"Informe sua idade: \"))\n",
        "salario = float(input(\"Informe seu salário: \"))\n",
        "\n",
        "print(f\"Nome: {nome}\")\n",
        "print(f\"Idade: {idade}\")\n",
        "print(f\"Salário: R$ {salario}\")"
      ],
      "metadata": {
        "id": "LKUiJbiPjnAw",
        "collapsed": true
      },
      "execution_count": null,
      "outputs": []
    },
    {
      "cell_type": "code",
      "source": [],
      "metadata": {
        "id": "4nUwCHvQhg0B"
      },
      "execution_count": null,
      "outputs": []
    },
    {
      "cell_type": "markdown",
      "source": [
        "**Exercício 11**:\n",
        "Escreva um programa que solicite dois números ao usuário e exiba a soma, subtração, multiplicação e divisão dos dois números."
      ],
      "metadata": {
        "id": "0BJ3TxuD-eeM"
      }
    },
    {
      "cell_type": "code",
      "source": [
        "num1 = int(input(\"Informe primeiro número: \"))\n",
        "num2 = int(input(\"Inforem o segundo número: \"))\n",
        "soma = num1 + num2\n",
        "subt = num1 - num2\n",
        "mult = num1 * num2\n",
        "div = num1 / num2\n",
        "print(f\"O resltado das operações matematicas são: soma: {soma}, subtração: {subt}, multiplicação: {mult} e da divisão: {div} \")"
      ],
      "metadata": {
        "id": "w0YgGltxwyCL"
      },
      "execution_count": null,
      "outputs": []
    },
    {
      "cell_type": "markdown",
      "source": [
        "**Exercício 12**:\n",
        "Calcule a média de três notas de um aluno e informe se ele foi aprovado (média maior ou igual a 7) ou reprovado."
      ],
      "metadata": {
        "id": "FgMIQ5Ni-k1f"
      }
    },
    {
      "cell_type": "code",
      "source": [
        "med1 = float(input(\"Informe a primeira nota: \"))\n",
        "med2 = float(input(\"Informe a segunda nota: \"))\n",
        "med3 = float(input(\"Informe a terceira nota: \"))\n",
        "\n",
        "media = ((med1 + med2 + med3) / 3)\n",
        "\n",
        "if media >=7:\n",
        "    print(f\"O aluno foi aprovado com média {media:.2f}\")\n",
        "else:\n",
        "    print(f\"O aluno foi reprovado com média {media:.2f}\")"
      ],
      "metadata": {
        "id": "wZK6NkOCygP0"
      },
      "execution_count": null,
      "outputs": []
    },
    {
      "cell_type": "markdown",
      "source": [
        "\n",
        "**Exercício 13**:\n",
        "Escreva um programa que leia dois números inteiros e exiba o quociente e o resto da divisão entre eles usando os operadores // (divisão inteira) e % (módulo)."
      ],
      "metadata": {
        "id": "bkOr6aqR-mrw"
      }
    },
    {
      "cell_type": "code",
      "source": [
        "num1 = int(input(\"Informe o primeiro número: \"))\n",
        "num2 = int(input(\"Informe o segundo número: \"))\n",
        "quociente = num1 // num2\n",
        "resto = num1 % num2\n",
        "print(f\"O quociente da divisão é: {quociente} e o resto da divisão é: {resto}\")"
      ],
      "metadata": {
        "id": "AZXOqY9YqPVk"
      },
      "execution_count": null,
      "outputs": []
    },
    {
      "cell_type": "markdown",
      "source": [
        "**Exercício 14**:\n",
        "Crie um programa que converta uma medida de metros para centímetros e milímetros."
      ],
      "metadata": {
        "id": "J4xZZXC9-pXF"
      }
    },
    {
      "cell_type": "code",
      "source": [
        "medida = float(input(\"Informe a medida em metros: \"))\n",
        "cm = medida * 100\n",
        "mm = medida * 1000\n",
        "\n",
        "print(f\"A medida em centímetros é: {cm}cm\")\n",
        "print(f\"A medida em milímetros é: {mm}mm\")"
      ],
      "metadata": {
        "colab": {
          "base_uri": "https://localhost:8080/"
        },
        "id": "t8QrfW5opjba",
        "outputId": "f8811544-344e-4521-ff69-624f8b6c8d7c"
      },
      "execution_count": null,
      "outputs": [
        {
          "output_type": "stream",
          "name": "stdout",
          "text": [
            "Informe a medida em metros: 1\n",
            "A medida em centímetros é: 100.0cm\n",
            "A medida em milímetros é: 1000.0mm\n"
          ]
        }
      ]
    },
    {
      "cell_type": "markdown",
      "source": [
        "**Exercício 15**:\n",
        "Faça um programa que leia um valor de hora e o valor que você ganha por hora. Em seguida, calcule e exiba o salário mensal considerando 160 horas trabalhadas no mês."
      ],
      "metadata": {
        "id": "azUaOxPr-ruO"
      }
    },
    {
      "cell_type": "code",
      "source": [
        "salario = float(input(\"Informe o valor do seu salário: \"))\n",
        "horas_trabalhadas = 160\n",
        "valor_hora = salario / horas_trabalhadas\n",
        "salario_mensal = valor_hora * horas_trabalhadas\n",
        "\n",
        "print(f\"O valor da sua hora é: R${valor_hora:.2f}\")\n",
        "print(f\"O valor do seu salário é: R${salario_mensal:} \")"
      ],
      "metadata": {
        "colab": {
          "base_uri": "https://localhost:8080/"
        },
        "id": "rwblG4X7zQ1m",
        "outputId": "f6fb2178-8af5-4192-e84d-72078e808dc1"
      },
      "execution_count": null,
      "outputs": [
        {
          "output_type": "stream",
          "name": "stdout",
          "text": [
            "Informe o valor do seu salário: 300\n",
            "O valor da sua hora é: R$1.36\n",
            "O valor do seu salário é: R$300.0 \n"
          ]
        }
      ]
    },
    {
      "cell_type": "markdown",
      "source": [
        "**Exercício 16**:\n",
        "Desenvolva um programa que leia um número inteiro e exiba seu dobro, triplo e raiz quadrada. Utilize os operadores aritméticos."
      ],
      "metadata": {
        "id": "nr5hCjgg-uPU"
      }
    },
    {
      "cell_type": "code",
      "source": [],
      "metadata": {
        "id": "H17SpYPAqwn7"
      },
      "execution_count": null,
      "outputs": []
    },
    {
      "cell_type": "code",
      "source": [
        "num = int(input(\"Informe um número inteiro:\"))\n",
        "\n",
        "dobro = num * 2\n",
        "triplo = num * 3\n",
        "raiz_quad = num ** 0.5\n",
        "\n",
        "print(f\"O dobro do número é: {dobro}\")\n",
        "print(f\"O triplo do número é: {triplo}\")\n",
        "print(f\"A raiz quadrada do número é: {raiz_quad:.2f}\")"
      ],
      "metadata": {
        "id": "uRMMiXchr-my"
      },
      "execution_count": null,
      "outputs": []
    },
    {
      "cell_type": "markdown",
      "source": [
        "**Exercício 17**:\n",
        "Escreva um programa que leia o valor de um depósito bancário e um valor de juros anual. Calcule e exiba o valor acumulado após 1, 5 e 10 anos, considerando juros compostos."
      ],
      "metadata": {
        "id": "MINEVZMz-zSn"
      }
    },
    {
      "cell_type": "markdown",
      "source": [
        "**Exercício 18**:\n",
        "Crie um programa que calcule a média ponderada de um aluno. O programa deve ler três notas e seus respectivos pesos, calcular e exibir a média ponderada."
      ],
      "metadata": {
        "id": "qbppvBPg-1GG"
      }
    },
    {
      "cell_type": "code",
      "source": [
        "nota1 = float(input(\"Informe a primeira nota: \"))\n",
        "peso1 = float(input(\"Informe o peso da primeira nota: \"))\n",
        "\n",
        "nota2 = float(input(\"Informe a segunda nota: \"))\n",
        "peso2 = float(input(\"Informe o peso da segunda nota: \"))\n",
        "\n",
        "nota3 = float(input(\"Informe a terceira nota: \"))\n",
        "peso3 = float(input(\"Informe o peso da terceira nota: \"))\n",
        "\n",
        "\n",
        "media_ponderada = ((nota1 * peso1) + (nota2 * peso2) + (nota3 * peso3)) / (peso1 + peso2 + peso3)\n",
        "\n",
        "print(f\"A primeira nota o aluno tirou {nota1} e tinha o peso {peso1}\")\n",
        "\n",
        "print(f\"A segunda nota o aluno tirou {nota2} e tinha o peso {peso2}\")\n",
        "\n",
        "print(f\"A terceira nota o aluno tirou {nota3} e tinha o peso {peso3}\")\n",
        "\n",
        "print(f\"A média ponderada do aluno é: {media_ponderada:.2f}\")\n",
        "\n",
        "if media_ponderada >= 7:\n",
        "    print(\"Aprovado\")\n",
        "else:\n",
        "    print(\"Reprovado\")"
      ],
      "metadata": {
        "id": "Y1YBwdVyneyx"
      },
      "execution_count": null,
      "outputs": []
    },
    {
      "cell_type": "markdown",
      "source": [
        "**Exercício 19**:\n",
        "Escreva um programa que leia um número e exiba a tabuada desse número de 1 a 10."
      ],
      "metadata": {
        "id": "G0sfqjB--3FO"
      }
    },
    {
      "cell_type": "markdown",
      "source": [
        "**Exercício 20**:\n",
        "Faça um programa que receba o valor de um salário e o percentual de aumento. Calcule e exiba o novo salário com o reajuste aplicado."
      ],
      "metadata": {
        "id": "9x-3ETdA-5G-"
      }
    },
    {
      "cell_type": "code",
      "source": [
        "salario = float(input(\"Informe o valor do salário: R$ \"))\n",
        "perc_aumento = float(input(\"Informe o valor do percentual de aumento:\" ))\n",
        "salario_reajuste = float(salario * (1 + (perc_aumento / 100)))\n",
        "\n",
        "print(f\"O valor do seu salário era R${salario}. Parabéns você teve um reajuste salarial de {perc_aumento}% e seu novo salário depois do reajuste R${salario_reajuste} \")"
      ],
      "metadata": {
        "id": "kNvNClYHkYzK"
      },
      "execution_count": null,
      "outputs": []
    }
  ]
}