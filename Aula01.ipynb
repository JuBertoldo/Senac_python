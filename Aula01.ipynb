{
  "nbformat": 4,
  "nbformat_minor": 0,
  "metadata": {
    "colab": {
      "provenance": [],
      "authorship_tag": "ABX9TyMadUvFzgLdEXgBsqtqEZ2c",
      "include_colab_link": true
    },
    "kernelspec": {
      "name": "python3",
      "display_name": "Python 3"
    },
    "language_info": {
      "name": "python"
    }
  },
  "cells": [
    {
      "cell_type": "markdown",
      "metadata": {
        "id": "view-in-github",
        "colab_type": "text"
      },
      "source": [
        "<a href=\"https://colab.research.google.com/github/JuBertoldo/Senac_python/blob/GitHub-Pages/Aula01.ipynb\" target=\"_parent\"><img src=\"https://colab.research.google.com/assets/colab-badge.svg\" alt=\"Open In Colab\"/></a>"
      ]
    },
    {
      "cell_type": "code",
      "execution_count": null,
      "metadata": {
        "id": "CZI3TS09mUNR"
      },
      "outputs": [],
      "source": []
    },
    {
      "cell_type": "code",
      "source": [
        "nome = \"João\"\n",
        "idade = 25\n",
        "altura = 1.60"
      ],
      "metadata": {
        "id": "zuXETmesnBCY"
      },
      "execution_count": null,
      "outputs": []
    },
    {
      "cell_type": "code",
      "source": [
        "print(f'Olá {nome}, sua idade é {idade} é sua altura {altura}')"
      ],
      "metadata": {
        "colab": {
          "base_uri": "https://localhost:8080/"
        },
        "id": "HsY9IwwWnksi",
        "outputId": "e521ba70-4680-44b8-8847-12a4d91e3d11"
      },
      "execution_count": null,
      "outputs": [
        {
          "output_type": "stream",
          "name": "stdout",
          "text": [
            "Olá João, sua idade é 25 é sua altura 1.6\n"
          ]
        }
      ]
    },
    {
      "cell_type": "code",
      "source": [
        "nome, idade, altura = \"João\", 25, 1.60"
      ],
      "metadata": {
        "id": "ONjOBD3dpVSy"
      },
      "execution_count": null,
      "outputs": []
    },
    {
      "cell_type": "code",
      "source": [
        "idade = 31\n",
        "print(type(idade))"
      ],
      "metadata": {
        "colab": {
          "base_uri": "https://localhost:8080/"
        },
        "id": "W_oyH9f8p6yD",
        "outputId": "ebae448e-aa6a-4a00-f408-9cbf9363b8fd"
      },
      "execution_count": null,
      "outputs": [
        {
          "output_type": "stream",
          "name": "stdout",
          "text": [
            "<class 'int'>\n"
          ]
        }
      ]
    },
    {
      "cell_type": "code",
      "source": [
        "x = int(\"42\")\n",
        "y = float(\"3.14\")\n",
        "z = str(\"42\")\n",
        "print(x,y,z)"
      ],
      "metadata": {
        "colab": {
          "base_uri": "https://localhost:8080/"
        },
        "id": "-a3_qpYXqSlB",
        "outputId": "1159c437-3cd9-4482-d2b0-5c91897899ee"
      },
      "execution_count": null,
      "outputs": [
        {
          "output_type": "stream",
          "name": "stdout",
          "text": [
            "42 3.14 42\n"
          ]
        }
      ]
    },
    {
      "cell_type": "code",
      "source": [
        "nome = input(\"Digite seu nome: \")\n",
        "idade = int(input(\"Digite sua idade: \"))\n",
        "print(f\"Olá, {nome}! Você tem {idade} anos.\")"
      ],
      "metadata": {
        "colab": {
          "base_uri": "https://localhost:8080/"
        },
        "id": "En70RXx_sUCE",
        "outputId": "362ac98e-1ea3-4075-a6cd-baf2621e582a"
      },
      "execution_count": null,
      "outputs": [
        {
          "output_type": "stream",
          "name": "stdout",
          "text": [
            "Digite seu nome: Juliana\n",
            "Digite sua idade: 31\n",
            "Olá, Juliana! Você tem 31 anos.\n"
          ]
        }
      ]
    },
    {
      "cell_type": "code",
      "source": [
        "numA = int(input(\"Informe um número\"))\n",
        "numB = int(input(\"Informe outro número\"))\n",
        "\n",
        "soma = numA + numB\n",
        "print(f\"O valor da soma é {soma}\")\n",
        "\n",
        "sub = numA-numB\n",
        "print(f\"O valor da subtração é {sub}\")\n",
        "\n",
        "mult = numA * numB\n",
        "print(f\"O valor da multiplicação é {mult}\")\n",
        "\n",
        "div = numA / numB\n",
        "print(f\"O valor da divisão é {div}\")"
      ],
      "metadata": {
        "colab": {
          "base_uri": "https://localhost:8080/"
        },
        "id": "AOJkOAyC4a4m",
        "outputId": "5783c784-3764-4175-db85-1cb1cc589dd2"
      },
      "execution_count": null,
      "outputs": [
        {
          "output_type": "stream",
          "name": "stdout",
          "text": [
            "Informe um número20\n",
            "Informe outro número40\n",
            "O valor da soma é 60\n",
            "O valor da subtração é -20\n",
            "O valor da multiplicação é 800\n",
            "O valor da divisão é 0.5\n"
          ]
        }
      ]
    },
    {
      "cell_type": "code",
      "source": [
        "#Armazene o preço do produto e o percentual deste desconto em duas variaveis.\n",
        "#Calcule e exiba o valor final do produto após o desconto sabendo que a formula para obter este valor é: Valor do Produto x (1-(Desconto / 100)).\n",
        "\n",
        "preco_produto = float(input(\"Digite o preço do produto: \"))\n",
        "percentual_desconto = float(input(\"Digite o percentual de desconto: \"))\n",
        "\n",
        "valor_final = preco_produto * (1 - (percentual_desconto / 100))\n",
        "\n",
        "print(f\"O valor final do produto após o desconto é: {valor_final}\")"
      ],
      "metadata": {
        "colab": {
          "base_uri": "https://localhost:8080/"
        },
        "id": "LbauzaiK5VD7",
        "outputId": "1770e691-7fd6-414a-ea8d-abada8756ef5"
      },
      "execution_count": null,
      "outputs": [
        {
          "output_type": "stream",
          "name": "stdout",
          "text": [
            "Digite o preço do produto: 300\n",
            "Digite o percentual de desconto: 15\n",
            "O valor final do produto após o desconto é: 255.0\n"
          ]
        }
      ]
    }
  ]
}